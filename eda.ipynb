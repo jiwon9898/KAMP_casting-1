{
 "cells": [
  {
   "cell_type": "code",
   "execution_count": 1,
   "metadata": {},
   "outputs": [],
   "source": [
    "import os\n",
    "os.chdir(\"/Users/jrpark/PythonProjects/KAMP_casting\")\n",
    "\n",
    "import pandas as pd\n",
    "import matplotlib.pyplot as plt\n",
    "\n",
    "from src.data import read_data"
   ]
  },
  {
   "cell_type": "code",
   "execution_count": 2,
   "metadata": {},
   "outputs": [
    {
     "name": "stdout",
     "output_type": "stream",
     "text": [
      "data_path: /Users/jrpark/PythonProjects/KAMP_casting/data/casting.csv\n",
      "       Unnamed: 0          line           name  \\\n",
      "0               0  전자교반 3라인 2호기  TM Carrier RH   \n",
      "1               1  전자교반 3라인 2호기  TM Carrier RH   \n",
      "2               2  전자교반 3라인 2호기  TM Carrier RH   \n",
      "3               3  전자교반 3라인 2호기  TM Carrier RH   \n",
      "4               4  전자교반 3라인 2호기  TM Carrier RH   \n",
      "...           ...           ...            ...   \n",
      "92010       92010  전자교반 3라인 2호기  TM Carrier RH   \n",
      "92011       92011  전자교반 3라인 2호기  TM Carrier RH   \n",
      "92012       92012  전자교반 3라인 2호기  TM Carrier RH   \n",
      "92013       92013  전자교반 3라인 2호기  TM Carrier RH   \n",
      "92014       92014  전자교반 3라인 2호기  TM Carrier RH   \n",
      "\n",
      "                             mold_name        time      date  count working  \\\n",
      "0      TM Carrier RH-Semi-Solid DIE-06  2019-01-02  16:45:06    258      가동   \n",
      "1      TM Carrier RH-Semi-Solid DIE-06  2019-01-02  16:45:08    243      가동   \n",
      "2      TM Carrier RH-Semi-Solid DIE-06  2019-01-02  16:45:58    244      가동   \n",
      "3      TM Carrier RH-Semi-Solid DIE-06  2019-01-02  16:48:03    245      가동   \n",
      "4      TM Carrier RH-Semi-Solid DIE-06  2019-01-02  16:50:08    246      가동   \n",
      "...                                ...         ...       ...    ...     ...   \n",
      "92010  TM Carrier RH-Semi-Solid DIE-06  2019-03-31  23:51:29     71      가동   \n",
      "92011  TM Carrier RH-Semi-Solid DIE-06  2019-03-31  23:53:28     72      가동   \n",
      "92012  TM Carrier RH-Semi-Solid DIE-06  2019-03-31  23:55:44     73      가동   \n",
      "92013  TM Carrier RH-Semi-Solid DIE-06  2019-03-31  23:57:46     74      가동   \n",
      "92014  TM Carrier RH-Semi-Solid DIE-06  2019-03-31  23:59:48     75      가동   \n",
      "\n",
      "      emergency_stop  molten_temp  ...  lower_mold_temp3  sleeve_temperature  \\\n",
      "0                 ON        731.0  ...            1449.0               550.0   \n",
      "1                 ON        720.0  ...               NaN               481.0   \n",
      "2                 ON        721.0  ...               NaN               481.0   \n",
      "3                 ON        721.0  ...               NaN               483.0   \n",
      "4                 ON        721.0  ...               NaN               486.0   \n",
      "...              ...          ...  ...               ...                 ...   \n",
      "92010             ON        731.0  ...            1449.0               279.0   \n",
      "92011             ON        731.0  ...            1449.0               279.0   \n",
      "92012             ON        732.0  ...            1449.0               272.0   \n",
      "92013             ON        732.0  ...            1449.0               288.0   \n",
      "92014             ON        732.0  ...            1449.0               289.0   \n",
      "\n",
      "       physical_strength  Coolant_temperature  EMS_operation_time  \\\n",
      "0                  700.0                 34.0                  23   \n",
      "1                    0.0                 30.0                  25   \n",
      "2                    0.0                 30.0                  25   \n",
      "3                    0.0                 30.0                  25   \n",
      "4                    0.0                 30.0                  25   \n",
      "...                  ...                  ...                 ...   \n",
      "92010              726.0                 30.0                   0   \n",
      "92011              732.0                 30.0                   0   \n",
      "92012              731.0                 30.0                   0   \n",
      "92013              723.0                 30.0                   0   \n",
      "92014              705.0                 30.0                   0   \n",
      "\n",
      "         registration_time  passorfail  tryshot_signal  mold_code  \\\n",
      "0      2019-01-02 16:45:06         0.0             NaN       8722   \n",
      "1      2019-01-02 16:45:08         0.0             NaN       8412   \n",
      "2      2019-01-02 16:45:58         0.0             NaN       8412   \n",
      "3      2019-01-02 16:48:03         0.0             NaN       8412   \n",
      "4      2019-01-02 16:50:08         0.0             NaN       8412   \n",
      "...                    ...         ...             ...        ...   \n",
      "92010  2019-03-31 23:51:29         0.0             NaN       8917   \n",
      "92011  2019-03-31 23:53:28         0.0             NaN       8917   \n",
      "92012  2019-03-31 23:55:44         0.0             NaN       8917   \n",
      "92013  2019-03-31 23:57:46         0.0             NaN       8917   \n",
      "92014  2019-03-31 23:59:48         0.0             NaN       8917   \n",
      "\n",
      "       heating_furnace  \n",
      "0                  NaN  \n",
      "1                    B  \n",
      "2                    B  \n",
      "3                    B  \n",
      "4                    B  \n",
      "...                ...  \n",
      "92010                A  \n",
      "92011                A  \n",
      "92012                A  \n",
      "92013                A  \n",
      "92014                A  \n",
      "\n",
      "[92015 rows x 32 columns]\n"
     ]
    },
    {
     "name": "stderr",
     "output_type": "stream",
     "text": [
      "/Users/jrpark/PythonProjects/KAMP_casting/src/data.py:8: DtypeWarning: Columns (29) have mixed types. Specify dtype option on import or set low_memory=False.\n",
      "  data = pd.read_csv(data_path, encoding='euckr')\n"
     ]
    }
   ],
   "source": [
    "data = read_data()\n",
    "print(data)"
   ]
  },
  {
   "cell_type": "code",
   "execution_count": null,
   "metadata": {},
   "outputs": [],
   "source": []
  }
 ],
 "metadata": {
  "kernelspec": {
   "display_name": "BigDataSchool",
   "language": "python",
   "name": "python3"
  },
  "language_info": {
   "codemirror_mode": {
    "name": "ipython",
    "version": 3
   },
   "file_extension": ".py",
   "mimetype": "text/x-python",
   "name": "python",
   "nbconvert_exporter": "python",
   "pygments_lexer": "ipython3",
   "version": "3.9.6"
  }
 },
 "nbformat": 4,
 "nbformat_minor": 2
}
